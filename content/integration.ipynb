{
 "cells": [
  {
   "cell_type": "code",
   "execution_count": null,
   "id": "95b80641",
   "metadata": {},
   "outputs": [],
   "source": [
    "\n",
    "from scipy.integrate import quad\n",
    "\n",
    "d = 2\n",
    "\n",
    "def f(x): return x**d\n",
    "\n",
    "a,b = -1, 1\n",
    "\n",
    "# integral of f(x) over the interval [a,b]\n",
    "# plus error\n",
    "quad(f,a,b)\n"
   ]
  },
  {
   "cell_type": "code",
   "execution_count": null,
   "id": "1dd3adc0",
   "metadata": {},
   "outputs": [],
   "source": [
    "\n",
    "%%capture\n",
    "\t\n",
    "import import_ipynb\n",
    "from single_variable_calculus import *\n"
   ]
  },
  {
   "cell_type": "code",
   "execution_count": null,
   "id": "9064224c",
   "metadata": {},
   "outputs": [],
   "source": [
    "\n",
    "\t\n",
    "from numpy import *\n",
    "set_printoptions(legacy = \"1.25\")\n",
    "\n",
    "def plot_and_integrate(f,a,b,pi_ticks = False):\n",
    "\t# draw x-axis and y-axis\n",
    "\taxhline(0, color = 'black', lw = 1)\n",
    "\taxvline(0, color = 'black', lw = 1)\n",
    "\t# set x-axis ticks as multiples of pi/2\n",
    "\tif pi_ticks: set_pi_ticks(a,b)\n",
    "\tx = linspace(a,b,100)\n",
    "\tplot(x,f(x))\n",
    "\tpositive = f(x) >= 0\n",
    "\tnegative = f(x) < 0\n",
    "\tfill_between(x, f(x), 0, color = 'g', where = positive, alpha = .5)\n",
    "\tfill_between(x, f(x), 0, color = 'r', where = negative, alpha = .5)\n",
    "\t# just the integral, no error estimate\n",
    "\tI = quad(f, a, b, limit=1000)[0]\n",
    "\ttitle(\"integral equals \" + str(I),fontsize = 10)\n",
    "\tgrid()\n",
    "\tshow()\n",
    "\n",
    "def f(x): return sin(x)/x\n",
    "a, b = 0.001, 3*pi\n",
    "\n",
    "plot_and_integrate(f,a,b,pi_ticks = True)\n"
   ]
  }
 ],
 "metadata": {},
 "nbformat": 4,
 "nbformat_minor": 5
}
